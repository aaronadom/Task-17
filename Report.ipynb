{
 "cells": [
  {
   "cell_type": "code",
   "execution_count": 7,
   "metadata": {
    "id": "h0LVvvnfJsg5"
   },
   "outputs": [],
   "source": [
    "# Import pandas\n",
    "import pandas as pd"
   ]
  },
  {
   "cell_type": "code",
   "execution_count": 10,
   "metadata": {
    "id": "rv2oLRnPK36J"
   },
   "outputs": [],
   "source": [
    "# Create a DataFrame with balance.txt\n",
    "df = pd.read_csv('balance.txt', delim_whitespace=True)"
   ]
  },
  {
   "cell_type": "markdown",
   "metadata": {
    "id": "_LXpBJXZLYoh"
   },
   "source": [
    "Write the code needed to produce a report that provides the following information:\n",
    "* Compare the average income based on ethnicity.\n",
    "* On average, do married or single people have a higher balance?\n",
    "* What is the highest income in our dataset?\n",
    "* What is the lowest income in our dataset?\n",
    "* How many cards do we have recorded in our dataset? (Hint: use `sum()`)\n",
    "* How many females do we have information for vs how many males? (Hint: use `count()`For a list of all methods for computation of descriptive stats, explore the [pandas documentation](https://pandas.pydata.org/pandas-docs/stable/reference/frame.html#computations-descriptive-stats)). "
   ]
  },
  {
   "cell_type": "code",
   "execution_count": 11,
   "metadata": {},
   "outputs": [
    {
     "data": {
      "text/html": [
       "<div>\n",
       "<style scoped>\n",
       "    .dataframe tbody tr th:only-of-type {\n",
       "        vertical-align: middle;\n",
       "    }\n",
       "\n",
       "    .dataframe tbody tr th {\n",
       "        vertical-align: top;\n",
       "    }\n",
       "\n",
       "    .dataframe thead th {\n",
       "        text-align: right;\n",
       "    }\n",
       "</style>\n",
       "<table border=\"1\" class=\"dataframe\">\n",
       "  <thead>\n",
       "    <tr style=\"text-align: right;\">\n",
       "      <th></th>\n",
       "      <th>Income</th>\n",
       "    </tr>\n",
       "    <tr>\n",
       "      <th>Ethnicity</th>\n",
       "      <th></th>\n",
       "    </tr>\n",
       "  </thead>\n",
       "  <tbody>\n",
       "    <tr>\n",
       "      <th>African American</th>\n",
       "      <td>47.682101</td>\n",
       "    </tr>\n",
       "    <tr>\n",
       "      <th>Asian</th>\n",
       "      <td>44.187833</td>\n",
       "    </tr>\n",
       "    <tr>\n",
       "      <th>Caucasian</th>\n",
       "      <td>44.521945</td>\n",
       "    </tr>\n",
       "  </tbody>\n",
       "</table>\n",
       "</div>"
      ],
      "text/plain": [
       "                     Income\n",
       "Ethnicity                  \n",
       "African American  47.682101\n",
       "Asian             44.187833\n",
       "Caucasian         44.521945"
      ]
     },
     "execution_count": 11,
     "metadata": {},
     "output_type": "execute_result"
    }
   ],
   "source": [
    "# Comparing the average income based on ethnicity.\n",
    "df.groupby(['Ethnicity']).mean(numeric_only=True).filter(['Income'])"
   ]
  },
  {
   "cell_type": "code",
   "execution_count": 17,
   "metadata": {},
   "outputs": [
    {
     "name": "stdout",
     "output_type": "stream",
     "text": [
      "The average balance of a married people is: 13.388473477498913\n",
      "The average balance of a single people is: 13.493509015134242\n",
      "Single people have a higher balance than married people.\n"
     ]
    }
   ],
   "source": [
    "# On average, do married or single people have a higher balance?\n",
    "# calculating the average balance for married and single people.\n",
    "married_balance = df[df.Married == \"Yes\"].loc[:,\"Balance\"].mean()\n",
    "single_balance = df[df.Married == \"No\"].loc[:,\"Balance\"].mean()\n",
    "\n",
    "print(\"The average balance of a married people is:\", married_balance)\n",
    "print(\"The average balance of a single people is:\", single_balance)\n",
    "\n",
    "# Determing whether married or single people have a higher balance. \n",
    "if married_balance > single_balance:\n",
    "    print(\"Married people have a higher balance than single people.\")\n",
    "else:\n",
    "    print(\"Single people have a higher balance than married people.\")"
   ]
  },
  {
   "cell_type": "code",
   "execution_count": 16,
   "metadata": {},
   "outputs": [
    {
     "name": "stdout",
     "output_type": "stream",
     "text": [
      "The highest income in our dataset is: 186.634\n"
     ]
    }
   ],
   "source": [
    "# Calculating the highest income in our dataset.\n",
    "print(\"The highest income in our dataset is:\", df.loc[:, \"Income\"].max())"
   ]
  },
  {
   "cell_type": "code",
   "execution_count": 12,
   "metadata": {},
   "outputs": [
    {
     "name": "stdout",
     "output_type": "stream",
     "text": [
      "The lowest income in our dataset is: 10.354\n"
     ]
    }
   ],
   "source": [
    "# Calculating the lowest income in our dataset.\n",
    "print(\"The lowest income in our dataset is:\", df.loc[:, \"Income\"].min())"
   ]
  },
  {
   "cell_type": "code",
   "execution_count": 18,
   "metadata": {},
   "outputs": [
    {
     "name": "stdout",
     "output_type": "stream",
     "text": [
      "The total amount of cards in our dataset is: 1183\n"
     ]
    }
   ],
   "source": [
    "# Calculating the total number of cards recorded in our dataset.\n",
    "print(\"The total amount of cards in our dataset is:\", df.loc[:, \"Cards\"].sum())"
   ]
  },
  {
   "cell_type": "code",
   "execution_count": 21,
   "metadata": {},
   "outputs": [
    {
     "name": "stdout",
     "output_type": "stream",
     "text": [
      "The total number of females in our dataset is: 207\n",
      "The total number of males in our dataset is: 193\n",
      "There are 14 more females than males in the data set\n"
     ]
    }
   ],
   "source": [
    "# Comparing the information we hold between females and males.\n",
    "# Calculating the number of females and males in our dataset.\n",
    "female_info_count = df[df.Gender == \"Female\"].loc[:, \"Gender\"].count()\n",
    "male_info_count = df[df.Gender == \"Male\"].loc[:, \"Gender\"].count()\n",
    "\n",
    "\n",
    "print(\"The total number of females in our dataset is:\", female_info_count)\n",
    "print(\"The total number of males in our dataset is:\", male_info_count)\n",
    "\n",
    "# Total difference betweeen females and males in dataset\n",
    "difference = female_info_count  - male_info_count\n",
    "\n",
    "print(f\"There are {difference} more females than males in the data set\")"
   ]
  }
 ],
 "metadata": {
  "colab": {
   "authorship_tag": "ABX9TyP5J3xG1JXUCQAkP9OLQqdU",
   "provenance": []
  },
  "kernelspec": {
   "display_name": "Python 3 (ipykernel)",
   "language": "python",
   "name": "python3"
  },
  "language_info": {
   "codemirror_mode": {
    "name": "ipython",
    "version": 3
   },
   "file_extension": ".py",
   "mimetype": "text/x-python",
   "name": "python",
   "nbconvert_exporter": "python",
   "pygments_lexer": "ipython3",
   "version": "3.11.2"
  }
 },
 "nbformat": 4,
 "nbformat_minor": 1
}
